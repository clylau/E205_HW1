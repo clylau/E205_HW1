{
 "cells": [
  {
   "cell_type": "code",
   "execution_count": 197,
   "metadata": {},
   "outputs": [],
   "source": [
    "import pandas as pd\n",
    "import numpy as np\n",
    "import matplotlib.pyplot as plt\n",
    "import scipy.stats as stats\n",
    "import math\n",
    "import string"
   ]
  },
  {
   "cell_type": "markdown",
   "metadata": {},
   "source": [
    "## Part 1 Get Data"
   ]
  },
  {
   "cell_type": "code",
   "execution_count": 2,
   "metadata": {},
   "outputs": [],
   "source": [
    "azimuth_neg90 = pd.read_csv('lab1_azimuth_-90.csv')\n",
    "azimuth_0 = pd.read_csv('lab1_azimuth_00.csv')\n",
    "azimuth_90 = pd.read_csv('lab1_azimuth_90.csv')"
   ]
  },
  {
   "cell_type": "code",
   "execution_count": 74,
   "metadata": {},
   "outputs": [
    {
     "data": {
      "text/html": [
       "<div>\n",
       "<style scoped>\n",
       "    .dataframe tbody tr th:only-of-type {\n",
       "        vertical-align: middle;\n",
       "    }\n",
       "\n",
       "    .dataframe tbody tr th {\n",
       "        vertical-align: top;\n",
       "    }\n",
       "\n",
       "    .dataframe thead th {\n",
       "        text-align: right;\n",
       "    }\n",
       "</style>\n",
       "<table border=\"1\" class=\"dataframe\">\n",
       "  <thead>\n",
       "    <tr style=\"text-align: right;\">\n",
       "      <th></th>\n",
       "      <th>Range(m)</th>\n",
       "      <th>Elevation(degrees)</th>\n",
       "      <th>Azimuth(degrees)</th>\n",
       "      <th>Reflectivity</th>\n",
       "      <th>Time Stamp(s)</th>\n",
       "      <th>Latitude</th>\n",
       "      <th>Longitude</th>\n",
       "      <th>Time Stamp(s).1</th>\n",
       "    </tr>\n",
       "  </thead>\n",
       "  <tbody>\n",
       "    <tr>\n",
       "      <td>0</td>\n",
       "      <td>9.272</td>\n",
       "      <td>1.0</td>\n",
       "      <td>269.588125</td>\n",
       "      <td>21.0</td>\n",
       "      <td>2453.166531</td>\n",
       "      <td>34.106412</td>\n",
       "      <td>-117.712031</td>\n",
       "      <td>2453.257143</td>\n",
       "    </tr>\n",
       "    <tr>\n",
       "      <td>1</td>\n",
       "      <td>9.276</td>\n",
       "      <td>1.0</td>\n",
       "      <td>269.783125</td>\n",
       "      <td>21.0</td>\n",
       "      <td>2453.166531</td>\n",
       "      <td>34.106412</td>\n",
       "      <td>-117.712031</td>\n",
       "      <td>2453.257143</td>\n",
       "    </tr>\n",
       "    <tr>\n",
       "      <td>2</td>\n",
       "      <td>9.278</td>\n",
       "      <td>1.0</td>\n",
       "      <td>270.138125</td>\n",
       "      <td>19.0</td>\n",
       "      <td>2454.266701</td>\n",
       "      <td>34.106412</td>\n",
       "      <td>-117.712031</td>\n",
       "      <td>2454.344943</td>\n",
       "    </tr>\n",
       "    <tr>\n",
       "      <td>3</td>\n",
       "      <td>9.280</td>\n",
       "      <td>1.0</td>\n",
       "      <td>270.333125</td>\n",
       "      <td>22.0</td>\n",
       "      <td>2454.266701</td>\n",
       "      <td>34.106412</td>\n",
       "      <td>-117.712031</td>\n",
       "      <td>2454.344943</td>\n",
       "    </tr>\n",
       "    <tr>\n",
       "      <td>4</td>\n",
       "      <td>9.266</td>\n",
       "      <td>1.0</td>\n",
       "      <td>269.888333</td>\n",
       "      <td>19.0</td>\n",
       "      <td>2454.566627</td>\n",
       "      <td>34.106412</td>\n",
       "      <td>-117.712031</td>\n",
       "      <td>2454.643000</td>\n",
       "    </tr>\n",
       "    <tr>\n",
       "      <td>...</td>\n",
       "      <td>...</td>\n",
       "      <td>...</td>\n",
       "      <td>...</td>\n",
       "      <td>...</td>\n",
       "      <td>...</td>\n",
       "      <td>...</td>\n",
       "      <td>...</td>\n",
       "      <td>...</td>\n",
       "    </tr>\n",
       "    <tr>\n",
       "      <td>1135</td>\n",
       "      <td>9.290</td>\n",
       "      <td>1.0</td>\n",
       "      <td>270.578333</td>\n",
       "      <td>56.0</td>\n",
       "      <td>2750.566697</td>\n",
       "      <td>34.106410</td>\n",
       "      <td>-117.712028</td>\n",
       "      <td>2750.819596</td>\n",
       "    </tr>\n",
       "    <tr>\n",
       "      <td>1136</td>\n",
       "      <td>9.274</td>\n",
       "      <td>1.0</td>\n",
       "      <td>269.688333</td>\n",
       "      <td>19.0</td>\n",
       "      <td>2751.166548</td>\n",
       "      <td>34.106410</td>\n",
       "      <td>-117.712028</td>\n",
       "      <td>2751.245629</td>\n",
       "    </tr>\n",
       "    <tr>\n",
       "      <td>1137</td>\n",
       "      <td>9.284</td>\n",
       "      <td>1.0</td>\n",
       "      <td>269.888333</td>\n",
       "      <td>17.0</td>\n",
       "      <td>2751.166548</td>\n",
       "      <td>34.106410</td>\n",
       "      <td>-117.712028</td>\n",
       "      <td>2751.245629</td>\n",
       "    </tr>\n",
       "    <tr>\n",
       "      <td>1138</td>\n",
       "      <td>9.264</td>\n",
       "      <td>1.0</td>\n",
       "      <td>269.507917</td>\n",
       "      <td>22.0</td>\n",
       "      <td>2751.466474</td>\n",
       "      <td>34.106410</td>\n",
       "      <td>-117.712028</td>\n",
       "      <td>2751.543909</td>\n",
       "    </tr>\n",
       "    <tr>\n",
       "      <td>1139</td>\n",
       "      <td>9.274</td>\n",
       "      <td>1.0</td>\n",
       "      <td>269.697917</td>\n",
       "      <td>19.0</td>\n",
       "      <td>2751.466474</td>\n",
       "      <td>34.106410</td>\n",
       "      <td>-117.712028</td>\n",
       "      <td>2751.543909</td>\n",
       "    </tr>\n",
       "  </tbody>\n",
       "</table>\n",
       "<p>1140 rows × 8 columns</p>\n",
       "</div>"
      ],
      "text/plain": [
       "      Range(m)  Elevation(degrees)  Azimuth(degrees)  Reflectivity  \\\n",
       "0        9.272                 1.0        269.588125          21.0   \n",
       "1        9.276                 1.0        269.783125          21.0   \n",
       "2        9.278                 1.0        270.138125          19.0   \n",
       "3        9.280                 1.0        270.333125          22.0   \n",
       "4        9.266                 1.0        269.888333          19.0   \n",
       "...        ...                 ...               ...           ...   \n",
       "1135     9.290                 1.0        270.578333          56.0   \n",
       "1136     9.274                 1.0        269.688333          19.0   \n",
       "1137     9.284                 1.0        269.888333          17.0   \n",
       "1138     9.264                 1.0        269.507917          22.0   \n",
       "1139     9.274                 1.0        269.697917          19.0   \n",
       "\n",
       "      Time Stamp(s)   Latitude   Longitude  Time Stamp(s).1  \n",
       "0       2453.166531  34.106412 -117.712031      2453.257143  \n",
       "1       2453.166531  34.106412 -117.712031      2453.257143  \n",
       "2       2454.266701  34.106412 -117.712031      2454.344943  \n",
       "3       2454.266701  34.106412 -117.712031      2454.344943  \n",
       "4       2454.566627  34.106412 -117.712031      2454.643000  \n",
       "...             ...        ...         ...              ...  \n",
       "1135    2750.566697  34.106410 -117.712028      2750.819596  \n",
       "1136    2751.166548  34.106410 -117.712028      2751.245629  \n",
       "1137    2751.166548  34.106410 -117.712028      2751.245629  \n",
       "1138    2751.466474  34.106410 -117.712028      2751.543909  \n",
       "1139    2751.466474  34.106410 -117.712028      2751.543909  \n",
       "\n",
       "[1140 rows x 8 columns]"
      ]
     },
     "execution_count": 74,
     "metadata": {},
     "output_type": "execute_result"
    }
   ],
   "source": [
    "azimuth_neg90"
   ]
  },
  {
   "cell_type": "code",
   "execution_count": 3,
   "metadata": {},
   "outputs": [],
   "source": [
    "range_neg90 = azimuth_neg90['Range(m)'].to_numpy()\n",
    "range_0 = azimuth_0['Range(m)'].to_numpy()\n",
    "range_90 = azimuth_90['Range(m)'].to_numpy()"
   ]
  },
  {
   "cell_type": "code",
   "execution_count": 4,
   "metadata": {},
   "outputs": [],
   "source": [
    "mean_neg90 = azimuth_neg90['Range(m)'].mean()"
   ]
  },
  {
   "cell_type": "code",
   "execution_count": 5,
   "metadata": {},
   "outputs": [],
   "source": [
    "std_neg90 = azimuth_neg90['Range(m)'].std()"
   ]
  },
  {
   "cell_type": "markdown",
   "metadata": {},
   "source": [
    "## Part 2 Create Histograms"
   ]
  },
  {
   "cell_type": "code",
   "execution_count": 31,
   "metadata": {},
   "outputs": [
    {
     "data": {
      "image/png": "[encoded data removed]",
      "text/plain": [
       "<Figure size 432x288 with 1 Axes>"
      ]
     },
     "metadata": {
      "needs_background": "light"
     },
     "output_type": "display_data"
    }
   ],
   "source": [
    "_, bins, _ = plt.hist(range_neg90, 10)\n",
    "plt.title(\"Histogram for Range (Azimuth at -90 Degrees)\")\n",
    "plt.xlabel(\"Range (meters)\")\n",
    "plt.ylabel(\"Count\")\n",
    "plt.xticks(bins, rotation = 45)\n",
    "plt.show()"
   ]
  },
  {
   "cell_type": "code",
   "execution_count": 33,
   "metadata": {},
   "outputs": [
    {
     "data": {
      "image/png": "[encoded data removed]",
      "text/plain": [
       "<Figure size 432x288 with 1 Axes>"
      ]
     },
     "metadata": {
      "needs_background": "light"
     },
     "output_type": "display_data"
    }
   ],
   "source": [
    "_, bins, _ = plt.hist(range_0, 10)\n",
    "plt.title(\"Histogram for Range (Azimuth at 0 Degrees)\")\n",
    "plt.xlabel(\"Range (meters)\")\n",
    "plt.ylabel(\"Count\")\n",
    "plt.xticks(bins, rotation = 45)\n",
    "plt.show()"
   ]
  },
  {
   "cell_type": "code",
   "execution_count": 34,
   "metadata": {},
   "outputs": [
    {
     "data": {
      "image/png": "[encoded data removed]",
      "text/plain": [
       "<Figure size 432x288 with 1 Axes>"
      ]
     },
     "metadata": {
      "needs_background": "light"
     },
     "output_type": "display_data"
    }
   ],
   "source": [
    "_, bins, _ = plt.hist(range_90, 10)\n",
    "plt.title(\"Histogram for Range (Azimuth at 90 Degrees)\")\n",
    "plt.xlabel(\"Range (meters)\")\n",
    "plt.ylabel(\"Count\")\n",
    "plt.xticks(bins, rotation = 45)\n",
    "plt.show()"
   ]
  },
  {
   "cell_type": "markdown",
   "metadata": {},
   "source": [
    "## Part 3 Create Model"
   ]
  },
  {
   "cell_type": "code",
   "execution_count": 9,
   "metadata": {},
   "outputs": [],
   "source": [
    "[range_neg90_count, range_neg90_binEdges] = np.histogram(range_neg90, bins=10)"
   ]
  },
  {
   "cell_type": "code",
   "execution_count": 10,
   "metadata": {},
   "outputs": [],
   "source": [
    "normalizedCount = range_neg90_count / azimuth_neg90['Range(m)'].count()"
   ]
  },
  {
   "cell_type": "code",
   "execution_count": 37,
   "metadata": {},
   "outputs": [
    {
     "data": {
      "image/png": "[encoded data removed]",
      "text/plain": [
       "<Figure size 432x288 with 1 Axes>"
      ]
     },
     "metadata": {
      "needs_background": "light"
     },
     "output_type": "display_data"
    }
   ],
   "source": [
    "plt.hist(range_neg90_binEdges[:-1], range_neg90_binEdges, weights=normalizedCount)\n",
    "plt.title(\"Probability Histogram for Range (Azimuth at -90 Degrees)\")\n",
    "plt.xlabel(\"Range (meters)\")\n",
    "plt.ylabel(\"Probability of Range bin\")\n",
    "plt.xticks(range_neg90_binEdges, rotation = 45)\n",
    "plt.show()"
   ]
  },
  {
   "cell_type": "markdown",
   "metadata": {},
   "source": [
    "Using this as a comparison to ultimate gaussian model. Shows probabilities of occuring in each range bin (normalized count vals by dividing by total data count)"
   ]
  },
  {
   "cell_type": "code",
   "execution_count": 36,
   "metadata": {},
   "outputs": [
    {
     "data": {
      "text/plain": [
       "(9.278552631578954, 0.007498307804723954)"
      ]
     },
     "execution_count": 36,
     "metadata": {},
     "output_type": "execute_result"
    }
   ],
   "source": [
    "mean_neg90, std_neg90"
   ]
  },
  {
   "cell_type": "markdown",
   "metadata": {},
   "source": [
    "Based on the shape of the -90 degree distrubtion, a normal distribution seems like the best fit for our model. We find the mean of the data and the standard deviation to define the model."
   ]
  },
  {
   "cell_type": "code",
   "execution_count": 38,
   "metadata": {},
   "outputs": [
    {
     "data": {
      "image/png": "[encoded data removed]",
      "text/plain": [
       "<Figure size 432x288 with 1 Axes>"
      ]
     },
     "metadata": {
      "needs_background": "light"
     },
     "output_type": "display_data"
    }
   ],
   "source": [
    "x = np.linspace(mean_neg90 - 3*std_neg90, mean_neg90 + 3*std_neg90, 100)\n",
    "plt.plot(x, stats.norm.pdf(x, mean_neg90, std_neg90))\n",
    "plt.title(\"Modeled PDF for Range (Azimuth at -90 Degrees)\")\n",
    "plt.xlabel(\"Range (meters)\")\n",
    "plt.ylabel(\"Probability Density of range\")\n",
    "plt.show()"
   ]
  },
  {
   "cell_type": "markdown",
   "metadata": {},
   "source": [
    "Checking that our PDF has an area under of 1 (close enough)"
   ]
  },
  {
   "cell_type": "code",
   "execution_count": 13,
   "metadata": {},
   "outputs": [
    {
     "data": {
      "text/plain": [
       "0.997292067626924"
      ]
     },
     "execution_count": 13,
     "metadata": {},
     "output_type": "execute_result"
    }
   ],
   "source": [
    "np.trapz(stats.norm.pdf(x, mean_neg90, std_neg90), x=x)"
   ]
  },
  {
   "cell_type": "code",
   "execution_count": 14,
   "metadata": {},
   "outputs": [
    {
     "data": {
      "text/plain": [
       "0.03309416255844499"
      ]
     },
     "execution_count": 14,
     "metadata": {},
     "output_type": "execute_result"
    }
   ],
   "source": [
    "stats.norm(mean_neg90, std_neg90).cdf(9.2656) - stats.norm(mean_neg90, std_neg90).cdf(9.2608)"
   ]
  },
  {
   "cell_type": "markdown",
   "metadata": {},
   "source": [
    "To validate the model, we look at the experimentally determined probability of each ranges and calculate the probability (area under pdf) to compare them"
   ]
  },
  {
   "cell_type": "code",
   "execution_count": 15,
   "metadata": {
    "scrolled": true
   },
   "outputs": [
    {
     "name": "stdout",
     "output_type": "stream",
     "text": [
      "0.009649122807017544\n",
      "0.02631578947368421\n",
      "0.12017543859649123\n",
      "0.16403508771929826\n",
      "0.3017543859649123\n",
      "0.18859649122807018\n",
      "0.10438596491228071\n",
      "0.07105263157894737\n",
      "0.011403508771929825\n",
      "0.002631578947368421\n"
     ]
    }
   ],
   "source": [
    "for prob in normalizedCount:\n",
    "    print(prob)"
   ]
  },
  {
   "cell_type": "code",
   "execution_count": 16,
   "metadata": {},
   "outputs": [
    {
     "name": "stdout",
     "output_type": "stream",
     "text": [
      "0.007636927529162376\n",
      "0.03309416255846626\n",
      "0.09641305797387179\n",
      "0.18893444907978663\n",
      "0.2491359220650043\n",
      "0.22109499455857284\n",
      "0.13204122946056274\n",
      "0.05305233868656534\n",
      "0.01433358288062303\n",
      "0.002602439019544711\n"
     ]
    }
   ],
   "source": [
    "for i in range(len(range_neg90_binEdges) - 1):\n",
    "    print(stats.norm(mean_neg90, std_neg90).cdf(range_neg90_binEdges[i+1]) - stats.norm(mean_neg90, std_neg90).cdf(range_neg90_binEdges[i]))"
   ]
  },
  {
   "cell_type": "markdown",
   "metadata": {},
   "source": [
    "## Part 4 Transform and plot the GPS measurements"
   ]
  },
  {
   "cell_type": "code",
   "execution_count": 17,
   "metadata": {},
   "outputs": [],
   "source": [
    "lat_0 = azimuth_0['Latitude'].to_numpy()\n",
    "long_0 = azimuth_0['Longitude'].to_numpy()\n",
    "\n",
    "origin_lat = np.mean(lat_0)\n",
    "origin_long = np.mean(long_0)"
   ]
  },
  {
   "cell_type": "code",
   "execution_count": 40,
   "metadata": {},
   "outputs": [
    {
     "data": {
      "text/plain": [
       "(34.10641567984768, -117.71199024487404)"
      ]
     },
     "execution_count": 40,
     "metadata": {},
     "output_type": "execute_result"
    }
   ],
   "source": [
    "origin_lat, origin_long"
   ]
  },
  {
   "cell_type": "code",
   "execution_count": 39,
   "metadata": {},
   "outputs": [
    {
     "data": {
      "text/plain": [
       "(34.10643333333333, -117.71203216666665)"
      ]
     },
     "execution_count": 39,
     "metadata": {},
     "output_type": "execute_result"
    }
   ],
   "source": [
    "lat_0[0], long_0[0]"
   ]
  },
  {
   "cell_type": "code",
   "execution_count": 18,
   "metadata": {},
   "outputs": [
    {
     "data": {
      "text/html": [
       "<div>\n",
       "<style scoped>\n",
       "    .dataframe tbody tr th:only-of-type {\n",
       "        vertical-align: middle;\n",
       "    }\n",
       "\n",
       "    .dataframe tbody tr th {\n",
       "        vertical-align: top;\n",
       "    }\n",
       "\n",
       "    .dataframe thead th {\n",
       "        text-align: right;\n",
       "    }\n",
       "</style>\n",
       "<table border=\"1\" class=\"dataframe\">\n",
       "  <thead>\n",
       "    <tr style=\"text-align: right;\">\n",
       "      <th></th>\n",
       "      <th>Range(m)</th>\n",
       "      <th>Elevation(degrees)</th>\n",
       "      <th>Azimuth(degrees)</th>\n",
       "      <th>Reflectivity</th>\n",
       "      <th>Time Stamp(s)</th>\n",
       "      <th>Latitude</th>\n",
       "      <th>Longitude</th>\n",
       "      <th>Time Stamp(s).1</th>\n",
       "    </tr>\n",
       "  </thead>\n",
       "  <tbody>\n",
       "    <tr>\n",
       "      <td>0</td>\n",
       "      <td>8.186</td>\n",
       "      <td>1.0</td>\n",
       "      <td>0.178333</td>\n",
       "      <td>11.0</td>\n",
       "      <td>1317.391977</td>\n",
       "      <td>34.106433</td>\n",
       "      <td>-117.712032</td>\n",
       "      <td>1317.436316</td>\n",
       "    </tr>\n",
       "    <tr>\n",
       "      <td>1</td>\n",
       "      <td>8.194</td>\n",
       "      <td>1.0</td>\n",
       "      <td>0.378333</td>\n",
       "      <td>11.0</td>\n",
       "      <td>1317.391977</td>\n",
       "      <td>34.106433</td>\n",
       "      <td>-117.712032</td>\n",
       "      <td>1317.436316</td>\n",
       "    </tr>\n",
       "    <tr>\n",
       "      <td>2</td>\n",
       "      <td>8.208</td>\n",
       "      <td>1.0</td>\n",
       "      <td>0.108333</td>\n",
       "      <td>13.0</td>\n",
       "      <td>1317.691902</td>\n",
       "      <td>34.106433</td>\n",
       "      <td>-117.712032</td>\n",
       "      <td>1317.767028</td>\n",
       "    </tr>\n",
       "    <tr>\n",
       "      <td>3</td>\n",
       "      <td>8.198</td>\n",
       "      <td>1.0</td>\n",
       "      <td>0.308333</td>\n",
       "      <td>13.0</td>\n",
       "      <td>1317.691902</td>\n",
       "      <td>34.106433</td>\n",
       "      <td>-117.712032</td>\n",
       "      <td>1317.767028</td>\n",
       "    </tr>\n",
       "    <tr>\n",
       "      <td>4</td>\n",
       "      <td>8.194</td>\n",
       "      <td>1.0</td>\n",
       "      <td>0.158542</td>\n",
       "      <td>11.0</td>\n",
       "      <td>1318.291754</td>\n",
       "      <td>34.106433</td>\n",
       "      <td>-117.712032</td>\n",
       "      <td>1318.362909</td>\n",
       "    </tr>\n",
       "    <tr>\n",
       "      <td>...</td>\n",
       "      <td>...</td>\n",
       "      <td>...</td>\n",
       "      <td>...</td>\n",
       "      <td>...</td>\n",
       "      <td>...</td>\n",
       "      <td>...</td>\n",
       "      <td>...</td>\n",
       "      <td>...</td>\n",
       "    </tr>\n",
       "    <tr>\n",
       "      <td>1133</td>\n",
       "      <td>8.214</td>\n",
       "      <td>1.0</td>\n",
       "      <td>0.567917</td>\n",
       "      <td>13.0</td>\n",
       "      <td>1914.591673</td>\n",
       "      <td>34.106417</td>\n",
       "      <td>-117.711992</td>\n",
       "      <td>1914.677234</td>\n",
       "    </tr>\n",
       "    <tr>\n",
       "      <td>1134</td>\n",
       "      <td>8.194</td>\n",
       "      <td>1.0</td>\n",
       "      <td>0.238333</td>\n",
       "      <td>11.0</td>\n",
       "      <td>1915.391918</td>\n",
       "      <td>34.106417</td>\n",
       "      <td>-117.711992</td>\n",
       "      <td>1915.471758</td>\n",
       "    </tr>\n",
       "    <tr>\n",
       "      <td>1135</td>\n",
       "      <td>8.200</td>\n",
       "      <td>1.0</td>\n",
       "      <td>0.438333</td>\n",
       "      <td>13.0</td>\n",
       "      <td>1915.391918</td>\n",
       "      <td>34.106417</td>\n",
       "      <td>-117.711992</td>\n",
       "      <td>1915.471758</td>\n",
       "    </tr>\n",
       "    <tr>\n",
       "      <td>1136</td>\n",
       "      <td>8.196</td>\n",
       "      <td>1.0</td>\n",
       "      <td>0.088333</td>\n",
       "      <td>13.0</td>\n",
       "      <td>1915.991769</td>\n",
       "      <td>34.106417</td>\n",
       "      <td>-117.711992</td>\n",
       "      <td>1916.072516</td>\n",
       "    </tr>\n",
       "    <tr>\n",
       "      <td>1137</td>\n",
       "      <td>8.206</td>\n",
       "      <td>1.0</td>\n",
       "      <td>0.288333</td>\n",
       "      <td>13.0</td>\n",
       "      <td>1915.991769</td>\n",
       "      <td>34.106417</td>\n",
       "      <td>-117.711992</td>\n",
       "      <td>1916.072516</td>\n",
       "    </tr>\n",
       "  </tbody>\n",
       "</table>\n",
       "<p>1138 rows × 8 columns</p>\n",
       "</div>"
      ],
      "text/plain": [
       "      Range(m)  Elevation(degrees)  Azimuth(degrees)  Reflectivity  \\\n",
       "0        8.186                 1.0          0.178333          11.0   \n",
       "1        8.194                 1.0          0.378333          11.0   \n",
       "2        8.208                 1.0          0.108333          13.0   \n",
       "3        8.198                 1.0          0.308333          13.0   \n",
       "4        8.194                 1.0          0.158542          11.0   \n",
       "...        ...                 ...               ...           ...   \n",
       "1133     8.214                 1.0          0.567917          13.0   \n",
       "1134     8.194                 1.0          0.238333          11.0   \n",
       "1135     8.200                 1.0          0.438333          13.0   \n",
       "1136     8.196                 1.0          0.088333          13.0   \n",
       "1137     8.206                 1.0          0.288333          13.0   \n",
       "\n",
       "      Time Stamp(s)   Latitude   Longitude  Time Stamp(s).1  \n",
       "0       1317.391977  34.106433 -117.712032      1317.436316  \n",
       "1       1317.391977  34.106433 -117.712032      1317.436316  \n",
       "2       1317.691902  34.106433 -117.712032      1317.767028  \n",
       "3       1317.691902  34.106433 -117.712032      1317.767028  \n",
       "4       1318.291754  34.106433 -117.712032      1318.362909  \n",
       "...             ...        ...         ...              ...  \n",
       "1133    1914.591673  34.106417 -117.711992      1914.677234  \n",
       "1134    1915.391918  34.106417 -117.711992      1915.471758  \n",
       "1135    1915.391918  34.106417 -117.711992      1915.471758  \n",
       "1136    1915.991769  34.106417 -117.711992      1916.072516  \n",
       "1137    1915.991769  34.106417 -117.711992      1916.072516  \n",
       "\n",
       "[1138 rows x 8 columns]"
      ]
     },
     "execution_count": 18,
     "metadata": {},
     "output_type": "execute_result"
    }
   ],
   "source": [
    "azimuth_0"
   ]
  },
  {
   "cell_type": "code",
   "execution_count": 19,
   "metadata": {},
   "outputs": [],
   "source": [
    "def getCoord(point, origin):    \n",
    "    pointLat = np.array(point[0])\n",
    "    pointLong = np.array(point[1])\n",
    "    \n",
    "    earthCirc = 40008000\n",
    "    dx = (pointLong - origin[1])*earthCirc*np.cos((pointLat + origin[0])*np.pi/360)/360\n",
    "    dy = (pointLat - origin[0])*earthCirc/360\n",
    "    \n",
    "    return [dx, dy]\n"
   ]
  },
  {
   "cell_type": "code",
   "execution_count": 20,
   "metadata": {},
   "outputs": [],
   "source": [
    "[xCoord, yCoord] = getCoord(np.array([lat_0, long_0]), np.array([origin_lat, origin_long]))"
   ]
  },
  {
   "cell_type": "code",
   "execution_count": 41,
   "metadata": {},
   "outputs": [
    {
     "data": {
      "text/plain": [
       "[-1652738.583910142, 1667000.0]"
      ]
     },
     "execution_count": 41,
     "metadata": {},
     "output_type": "execute_result"
    }
   ],
   "source": [
    "getCoord([15, -15], [0,0])"
   ]
  },
  {
   "cell_type": "code",
   "execution_count": 42,
   "metadata": {},
   "outputs": [
    {
     "data": {
      "image/png": "[encoded data removed]",
      "text/plain": [
       "<Figure size 432x288 with 1 Axes>"
      ]
     },
     "metadata": {
      "needs_background": "light"
     },
     "output_type": "display_data"
    }
   ],
   "source": [
    "plt.plot(xCoord, yCoord, '.k')\n",
    "plt.title(\"Latitude and Longitude Values Converted to XY (Origin at Average)\")\n",
    "plt.xlabel(\"x (meters)\")\n",
    "plt.ylabel(\"Y (meters)\")\n",
    "plt.show()"
   ]
  },
  {
   "cell_type": "code",
   "execution_count": 22,
   "metadata": {},
   "outputs": [
    {
     "data": {
      "text/plain": [
       "4.992026640165638"
      ]
     },
     "execution_count": 22,
     "metadata": {},
     "output_type": "execute_result"
    }
   ],
   "source": [
    "np.square(np.std(xCoord))"
   ]
  },
  {
   "cell_type": "code",
   "execution_count": 23,
   "metadata": {},
   "outputs": [
    {
     "data": {
      "text/plain": [
       "1.0122727924461241"
      ]
     },
     "execution_count": 23,
     "metadata": {},
     "output_type": "execute_result"
    }
   ],
   "source": [
    "np.square(np.std(yCoord))"
   ]
  },
  {
   "cell_type": "markdown",
   "metadata": {},
   "source": [
    "## Implement Bayes Rule"
   ]
  },
  {
   "cell_type": "code",
   "execution_count": 116,
   "metadata": {},
   "outputs": [
    {
     "data": {
      "text/plain": [
       "array([9.272, 9.276, 9.278, ..., 9.284, 9.264, 9.274])"
      ]
     },
     "execution_count": 116,
     "metadata": {},
     "output_type": "execute_result"
    }
   ],
   "source": [
    "std_neg90\n",
    "range_neg90\n"
   ]
  },
  {
   "cell_type": "code",
   "execution_count": 145,
   "metadata": {},
   "outputs": [
    {
     "data": {
      "text/plain": [
       "(9.272, array([9.6, 9.7, 9.8, 9.9]))"
      ]
     },
     "execution_count": 145,
     "metadata": {},
     "output_type": "execute_result"
    }
   ],
   "source": [
    "#values we will need in our calculation of p(xi|z)\n",
    "x_pos = np.array([-1.4, -1.3, -1.2, -1.1])\n",
    "d = 11 + x_pos\n",
    "pxi = .25\n",
    "z_rangeMeas = range_neg90[0]\n",
    "#z_rangeMeas = 9.75\n",
    "epsilon = 0.4\n",
    "z_rangeMeas, d"
   ]
  },
  {
   "cell_type": "code",
   "execution_count": 146,
   "metadata": {},
   "outputs": [
    {
     "data": {
      "text/plain": [
       "9.272"
      ]
     },
     "execution_count": 146,
     "metadata": {},
     "output_type": "execute_result"
    }
   ],
   "source": [
    "z_rangeMeas"
   ]
  },
  {
   "cell_type": "code",
   "execution_count": 147,
   "metadata": {},
   "outputs": [
    {
     "data": {
      "text/plain": [
       "array([1.00000000e+000, 9.41654346e-005, 1.23003269e-065, 2.22888903e-203])"
      ]
     },
     "execution_count": 147,
     "metadata": {},
     "output_type": "execute_result"
    }
   ],
   "source": [
    "#calculate p(z|xi)\n",
    "pzxi = np.zeros(4)\n",
    "\n",
    "for i in range(len(pdf_list)):\n",
    "    pzxi[i] = stats.norm(d[i], std_neg90).cdf(z_rangeMeas + epsilon) - stats.norm(d[i], std_neg90).cdf(z_rangeMeas - epsilon)\n",
    "pzxi\n",
    "    "
   ]
  },
  {
   "cell_type": "code",
   "execution_count": 115,
   "metadata": {},
   "outputs": [],
   "source": [
    "#calculate p(z)\n",
    "pz = np.sum(pzxi*pxi)"
   ]
  },
  {
   "cell_type": "code",
   "execution_count": 95,
   "metadata": {},
   "outputs": [
    {
     "data": {
      "text/plain": [
       "array([0., 0., 0., 0.])"
      ]
     },
     "execution_count": 95,
     "metadata": {},
     "output_type": "execute_result"
    }
   ],
   "source": [
    "pxiz = pzxi*pxi/(pz + 1e-9)\n",
    "pxiz"
   ]
  },
  {
   "cell_type": "code",
   "execution_count": 96,
   "metadata": {},
   "outputs": [
    {
     "data": {
      "text/plain": [
       "1"
      ]
     },
     "execution_count": 96,
     "metadata": {},
     "output_type": "execute_result"
    }
   ],
   "source": [
    "#what is the most likely state\n",
    "state = np.argmax(pxiz) + 1\n",
    "state"
   ]
  },
  {
   "cell_type": "markdown",
   "metadata": {},
   "source": [
    "## Part 6 Create Police Data Model"
   ]
  },
  {
   "cell_type": "code",
   "execution_count": 226,
   "metadata": {},
   "outputs": [],
   "source": [
    "policeData = pd.read_csv('police_killings_cleaned.csv')\n",
    "policeData = policeData[['race', 'age']]\n",
    "policeData = policeData.dropna(axis='rows')\n",
    "#policeData = policeData[policeData['Victim\\'s age'] != \"Unknown\"]\n",
    "#ageVar = 'Victim\\'s age'\n"
   ]
  },
  {
   "cell_type": "code",
   "execution_count": 227,
   "metadata": {},
   "outputs": [
    {
     "data": {
      "text/html": [
       "<div>\n",
       "<style scoped>\n",
       "    .dataframe tbody tr th:only-of-type {\n",
       "        vertical-align: middle;\n",
       "    }\n",
       "\n",
       "    .dataframe tbody tr th {\n",
       "        vertical-align: top;\n",
       "    }\n",
       "\n",
       "    .dataframe thead th {\n",
       "        text-align: right;\n",
       "    }\n",
       "</style>\n",
       "<table border=\"1\" class=\"dataframe\">\n",
       "  <thead>\n",
       "    <tr style=\"text-align: right;\">\n",
       "      <th></th>\n",
       "      <th>race</th>\n",
       "      <th>age</th>\n",
       "    </tr>\n",
       "  </thead>\n",
       "  <tbody>\n",
       "    <tr>\n",
       "      <td>0</td>\n",
       "      <td>White</td>\n",
       "      <td>28</td>\n",
       "    </tr>\n",
       "    <tr>\n",
       "      <td>1</td>\n",
       "      <td>Black</td>\n",
       "      <td>57</td>\n",
       "    </tr>\n",
       "    <tr>\n",
       "      <td>2</td>\n",
       "      <td>Black</td>\n",
       "      <td>23</td>\n",
       "    </tr>\n",
       "    <tr>\n",
       "      <td>3</td>\n",
       "      <td>Black</td>\n",
       "      <td>37</td>\n",
       "    </tr>\n",
       "    <tr>\n",
       "      <td>4</td>\n",
       "      <td>White</td>\n",
       "      <td>49</td>\n",
       "    </tr>\n",
       "    <tr>\n",
       "      <td>...</td>\n",
       "      <td>...</td>\n",
       "      <td>...</td>\n",
       "    </tr>\n",
       "    <tr>\n",
       "      <td>7452</td>\n",
       "      <td>Hispanic</td>\n",
       "      <td>49</td>\n",
       "    </tr>\n",
       "    <tr>\n",
       "      <td>7453</td>\n",
       "      <td>Black</td>\n",
       "      <td>31</td>\n",
       "    </tr>\n",
       "    <tr>\n",
       "      <td>7454</td>\n",
       "      <td>Hispanic</td>\n",
       "      <td>21</td>\n",
       "    </tr>\n",
       "    <tr>\n",
       "      <td>7455</td>\n",
       "      <td>White</td>\n",
       "      <td>21</td>\n",
       "    </tr>\n",
       "    <tr>\n",
       "      <td>7456</td>\n",
       "      <td>White</td>\n",
       "      <td>26</td>\n",
       "    </tr>\n",
       "  </tbody>\n",
       "</table>\n",
       "<p>7457 rows × 2 columns</p>\n",
       "</div>"
      ],
      "text/plain": [
       "          race  age\n",
       "0        White   28\n",
       "1        Black   57\n",
       "2        Black   23\n",
       "3        Black   37\n",
       "4        White   49\n",
       "...        ...  ...\n",
       "7452  Hispanic   49\n",
       "7453     Black   31\n",
       "7454  Hispanic   21\n",
       "7455     White   21\n",
       "7456     White   26\n",
       "\n",
       "[7457 rows x 2 columns]"
      ]
     },
     "execution_count": 227,
     "metadata": {},
     "output_type": "execute_result"
    }
   ],
   "source": [
    "policeData"
   ]
  },
  {
   "cell_type": "code",
   "execution_count": 228,
   "metadata": {
    "scrolled": true
   },
   "outputs": [],
   "source": [
    "age = policeData['age'].to_numpy()"
   ]
  },
  {
   "cell_type": "code",
   "execution_count": 241,
   "metadata": {},
   "outputs": [
    {
     "data": {
      "text/plain": [
       "(107, 1, 34.0)"
      ]
     },
     "execution_count": 241,
     "metadata": {},
     "output_type": "execute_result"
    }
   ],
   "source": [
    "np.max(age), np.min(age), np.median(age)"
   ]
  },
  {
   "cell_type": "code",
   "execution_count": 242,
   "metadata": {},
   "outputs": [
    {
     "data": {
      "image/png": "[encoded data removed]",
      "text/plain": [
       "<Figure size 432x288 with 1 Axes>"
      ]
     },
     "metadata": {
      "needs_background": "light"
     },
     "output_type": "display_data"
    },
    {
     "data": {
      "text/plain": [
       "1.0"
      ]
     },
     "execution_count": 242,
     "metadata": {},
     "output_type": "execute_result"
    }
   ],
   "source": [
    "#plt.hist(age, bins = [0, 16, 21, 26, 31])\n",
    "bins = np.array([0, 20, 40, 60, 80, np.max(age)])\n",
    "[ageCount, ageEdges] = np.histogram(age, bins = bins)\n",
    "plt.hist(ageEdges[:-1], ageEdges, weights = ageCount/policeData['age'].count())\n",
    "plt.xticks(ageEdges)\n",
    "plt.title(\"Normalized Histogram of Victim's Age (all data points)\")\n",
    "plt.xlabel(\"Age (years)\")\n",
    "plt.ylabel(\"Probability\")\n",
    "plt.show()\n",
    "np.sum(ageCount/policeData['age'].count())"
   ]
  },
  {
   "cell_type": "code",
   "execution_count": 240,
   "metadata": {},
   "outputs": [],
   "source": [
    "black = policeData.loc[policeData['race'] == 'Black']\n",
    "white = policeData.loc[policeData['race'] == 'White']\n",
    "hispanic = policeData.loc[policeData['race'] == 'Hispanic']\n",
    "asian = policeData.loc[policeData['race'] == 'Asian']"
   ]
  },
  {
   "cell_type": "code",
   "execution_count": 247,
   "metadata": {},
   "outputs": [
    {
     "data": {
      "image/png": "[encoded data removed]",
      "text/plain": [
       "<Figure size 432x288 with 1 Axes>"
      ]
     },
     "metadata": {
      "needs_background": "light"
     },
     "output_type": "display_data"
    },
    {
     "data": {
      "text/plain": [
       "1.0"
      ]
     },
     "execution_count": 247,
     "metadata": {},
     "output_type": "execute_result"
    }
   ],
   "source": [
    "[ageCount, ageEdges] = np.histogram(black['age'], bins = bins)\n",
    "plt.hist(ageEdges[:-1], ageEdges, weights = ageCount/black['age'].count())\n",
    "plt.xticks(ageEdges)\n",
    "plt.title(\"Normalized Histogram of Victim's Age (Black)\")\n",
    "plt.xlabel(\"Age (years)\")\n",
    "plt.ylabel(\"Probability\")\n",
    "plt.show()\n",
    "np.sum(ageCount/black['age'].count())"
   ]
  },
  {
   "cell_type": "code",
   "execution_count": 248,
   "metadata": {},
   "outputs": [
    {
     "data": {
      "image/png": "[encoded data removed]",
      "text/plain": [
       "<Figure size 432x288 with 1 Axes>"
      ]
     },
     "metadata": {
      "needs_background": "light"
     },
     "output_type": "display_data"
    },
    {
     "data": {
      "text/plain": [
       "1.0"
      ]
     },
     "execution_count": 248,
     "metadata": {},
     "output_type": "execute_result"
    }
   ],
   "source": [
    "[ageCount, ageEdges] = np.histogram(white['age'], bins = bins)\n",
    "plt.hist(ageEdges[:-1], ageEdges, weights = ageCount/white['age'].count())\n",
    "plt.xticks(ageEdges)\n",
    "plt.title(\"Normalized Histogram of Victim's Age (White)\")\n",
    "plt.xlabel(\"Age (years)\")\n",
    "plt.ylabel(\"Probability\")\n",
    "plt.show()\n",
    "np.sum(ageCount/white['age'].count())"
   ]
  },
  {
   "cell_type": "code",
   "execution_count": 249,
   "metadata": {},
   "outputs": [
    {
     "data": {
      "image/png": "[encoded data removed]",
      "text/plain": [
       "<Figure size 432x288 with 1 Axes>"
      ]
     },
     "metadata": {
      "needs_background": "light"
     },
     "output_type": "display_data"
    },
    {
     "data": {
      "text/plain": [
       "1.0"
      ]
     },
     "execution_count": 249,
     "metadata": {},
     "output_type": "execute_result"
    }
   ],
   "source": [
    "[ageCount, ageEdges] = np.histogram(hispanic['age'], bins = bins)\n",
    "plt.hist(ageEdges[:-1], ageEdges, weights = ageCount/hispanic['age'].count())\n",
    "plt.xticks(ageEdges)\n",
    "plt.title(\"Normalized Histogram of Victim's Age (Hispanic)\")\n",
    "plt.xlabel(\"Age (years)\")\n",
    "plt.ylabel(\"Probability\")\n",
    "plt.show()\n",
    "np.sum(ageCount/hispanic['age'].count())"
   ]
  },
  {
   "cell_type": "code",
   "execution_count": 250,
   "metadata": {},
   "outputs": [
    {
     "data": {
      "image/png": "[encoded data removed]",
      "text/plain": [
       "<Figure size 432x288 with 1 Axes>"
      ]
     },
     "metadata": {
      "needs_background": "light"
     },
     "output_type": "display_data"
    },
    {
     "data": {
      "text/plain": [
       "1.0"
      ]
     },
     "execution_count": 250,
     "metadata": {},
     "output_type": "execute_result"
    }
   ],
   "source": [
    "[ageCount, ageEdges] = np.histogram(asian['age'], bins = bins)\n",
    "plt.hist(ageEdges[:-1], ageEdges, weights = ageCount/asian['age'].count())\n",
    "plt.xticks(ageEdges)\n",
    "plt.title(\"Normalized Histogram of Victim's Age (Asian)\")\n",
    "plt.xlabel(\"Age (years)\")\n",
    "plt.ylabel(\"Probability\")\n",
    "plt.show()\n",
    "np.sum(ageCount/asian['age'].count())"
   ]
  },
  {
   "cell_type": "code",
   "execution_count": null,
   "metadata": {},
   "outputs": [],
   "source": [
    "np.sum(np.array([0.37135279, 0.4005305 , 0.17241379, 0.04509284, 0.01061008]))"
   ]
  }
 ],
 "metadata": {
  "kernelspec": {
   "display_name": "Python 3",
   "language": "python",
   "name": "python3"
  },
  "language_info": {
   "codemirror_mode": {
    "name": "ipython",
    "version": 3
   },
   "file_extension": ".py",
   "mimetype": "text/x-python",
   "name": "python",
   "nbconvert_exporter": "python",
   "pygments_lexer": "ipython3",
   "version": "3.7.4"
  }
 },
 "nbformat": 4,
 "nbformat_minor": 2
}
